{
  "cells": [
    {
      "cell_type": "markdown",
      "metadata": {
        "id": "view-in-github",
        "colab_type": "text"
      },
      "source": [
        "<a href=\"https://colab.research.google.com/github/sonnn1505/spark-learning/blob/main/Work_with_RDD.ipynb\" target=\"_parent\"><img src=\"https://colab.research.google.com/assets/colab-badge.svg\" alt=\"Open In Colab\"/></a>"
      ]
    },
    {
      "cell_type": "code",
      "source": [
        "!pip install pyspark"
      ],
      "metadata": {
        "colab": {
          "base_uri": "https://localhost:8080/"
        },
        "id": "ajgSZwm0aU_S",
        "outputId": "a217598e-66b7-4674-af44-16cd9c1643f1"
      },
      "execution_count": 2,
      "outputs": [
        {
          "output_type": "stream",
          "name": "stdout",
          "text": [
            "Collecting pyspark\n",
            "  Downloading pyspark-3.5.1.tar.gz (317.0 MB)\n",
            "\u001b[2K     \u001b[90m━━━━━━━━━━━━━━━━━━━━━━━━━━━━━━━━━━━━━━━━\u001b[0m \u001b[32m317.0/317.0 MB\u001b[0m \u001b[31m3.2 MB/s\u001b[0m eta \u001b[36m0:00:00\u001b[0m\n",
            "\u001b[?25h  Preparing metadata (setup.py) ... \u001b[?25l\u001b[?25hdone\n",
            "Requirement already satisfied: py4j==0.10.9.7 in /usr/local/lib/python3.10/dist-packages (from pyspark) (0.10.9.7)\n",
            "Building wheels for collected packages: pyspark\n",
            "  Building wheel for pyspark (setup.py) ... \u001b[?25l\u001b[?25hdone\n",
            "  Created wheel for pyspark: filename=pyspark-3.5.1-py2.py3-none-any.whl size=317488491 sha256=4fd020469ddd301b97df95f4497057471a6d2743347f80baaffe07eab173a4f4\n",
            "  Stored in directory: /root/.cache/pip/wheels/80/1d/60/2c256ed38dddce2fdd93be545214a63e02fbd8d74fb0b7f3a6\n",
            "Successfully built pyspark\n",
            "Installing collected packages: pyspark\n",
            "Successfully installed pyspark-3.5.1\n"
          ]
        }
      ]
    },
    {
      "cell_type": "code",
      "source": [
        "from pyspark import SparkContext, SparkConf\n",
        "conf = SparkConf().setAppName(\"practice_RDD\").setMaster(\"local[*]\")\n",
        "sc = SparkContext(conf=conf)\n",
        "print(sc)"
      ],
      "metadata": {
        "colab": {
          "base_uri": "https://localhost:8080/"
        },
        "id": "jLCWviCZa67R",
        "outputId": "5966b375-5f97-45a7-ccde-1e6916b7f250"
      },
      "execution_count": 3,
      "outputs": [
        {
          "output_type": "stream",
          "name": "stdout",
          "text": [
            "<SparkContext master=local[*] appName=practice_RDD>\n"
          ]
        }
      ]
    },
    {
      "cell_type": "code",
      "source": [
        "import random\n",
        "randomList = random.sample(range(0,100),10)\n",
        "print(randomList)"
      ],
      "metadata": {
        "colab": {
          "base_uri": "https://localhost:8080/"
        },
        "id": "h6svJdC4bYEq",
        "outputId": "23469af1-3da1-47c3-d1d6-330f6a100b08"
      },
      "execution_count": 4,
      "outputs": [
        {
          "output_type": "stream",
          "name": "stdout",
          "text": [
            "[58, 19, 32, 66, 63, 70, 30, 7, 18, 90]\n"
          ]
        }
      ]
    },
    {
      "cell_type": "code",
      "source": [
        "rdd1 = sc.parallelize(randomList,4)\n",
        "print(rdd1)"
      ],
      "metadata": {
        "colab": {
          "base_uri": "https://localhost:8080/"
        },
        "id": "a1lm88n0bxey",
        "outputId": "1aec18fd-2d7a-4053-8e17-74cc76e1ed4b"
      },
      "execution_count": 5,
      "outputs": [
        {
          "output_type": "stream",
          "name": "stdout",
          "text": [
            "ParallelCollectionRDD[0] at readRDDFromFile at PythonRDD.scala:289\n"
          ]
        }
      ]
    },
    {
      "cell_type": "code",
      "source": [
        "print(rdd1.getNumPartitions())\n",
        "print(rdd1.glom().collect())"
      ],
      "metadata": {
        "colab": {
          "base_uri": "https://localhost:8080/"
        },
        "id": "YQvi7y_Cb7jh",
        "outputId": "0c3dba00-1bab-45f2-edc4-37daab50c135"
      },
      "execution_count": 6,
      "outputs": [
        {
          "output_type": "stream",
          "name": "stdout",
          "text": [
            "4\n",
            "[[58, 19], [32, 66], [63, 70], [30, 7, 18, 90]]\n"
          ]
        }
      ]
    },
    {
      "cell_type": "code",
      "source": [
        "rdd1.glom().take(1)"
      ],
      "metadata": {
        "colab": {
          "base_uri": "https://localhost:8080/"
        },
        "id": "bquvy86lcmpS",
        "outputId": "7df650bd-4dce-4082-884f-af27efa2785c"
      },
      "execution_count": 7,
      "outputs": [
        {
          "output_type": "execute_result",
          "data": {
            "text/plain": [
              "[[58, 19]]"
            ]
          },
          "metadata": {},
          "execution_count": 7
        }
      ]
    },
    {
      "cell_type": "code",
      "source": [
        "# top\n",
        "rdd1.top(1)"
      ],
      "metadata": {
        "colab": {
          "base_uri": "https://localhost:8080/"
        },
        "id": "auwGfW8vcquR",
        "outputId": "50800c0b-ecfc-4ab6-bfc6-9750939bfd50"
      },
      "execution_count": 8,
      "outputs": [
        {
          "output_type": "execute_result",
          "data": {
            "text/plain": [
              "[90]"
            ]
          },
          "metadata": {},
          "execution_count": 8
        }
      ]
    },
    {
      "cell_type": "code",
      "source": [
        "# distinct\n",
        "rdd1.distinct().collect()"
      ],
      "metadata": {
        "colab": {
          "base_uri": "https://localhost:8080/"
        },
        "id": "ZRN_pq4phONE",
        "outputId": "326fdcdb-e2aa-4a28-e667-5a8ffde127f4"
      },
      "execution_count": 9,
      "outputs": [
        {
          "output_type": "execute_result",
          "data": {
            "text/plain": [
              "[32, 58, 66, 70, 30, 18, 90, 19, 63, 7]"
            ]
          },
          "metadata": {},
          "execution_count": 9
        }
      ]
    },
    {
      "cell_type": "code",
      "source": [
        "def myfunc(item):\n",
        "  return (item + 1) * 3"
      ],
      "metadata": {
        "id": "pXCnUY9BjIZ0"
      },
      "execution_count": 10,
      "outputs": []
    },
    {
      "cell_type": "code",
      "source": [
        "# map\n",
        "# rdd_map = rdd1.map(myfunc)\n",
        "rdd_map = rdd1.map(lambda item : item + 1)\n",
        "rdd_map.collect()"
      ],
      "metadata": {
        "colab": {
          "base_uri": "https://localhost:8080/"
        },
        "id": "irt9iR75iDZE",
        "outputId": "355bb5d4-7886-4de2-f283-afef874c4db7"
      },
      "execution_count": 12,
      "outputs": [
        {
          "output_type": "execute_result",
          "data": {
            "text/plain": [
              "[59, 20, 33, 67, 64, 71, 31, 8, 19, 91]"
            ]
          },
          "metadata": {},
          "execution_count": 12
        }
      ]
    },
    {
      "cell_type": "code",
      "source": [
        "rdd_fillter = rdd1.filter(lambda x : x%3==0)\n",
        "rdd_fillter.collect()\n"
      ],
      "metadata": {
        "colab": {
          "base_uri": "https://localhost:8080/"
        },
        "id": "QFkR28JNheCu",
        "outputId": "dcb12de5-930e-4ecf-f8c2-069224d8e8f3"
      },
      "execution_count": 13,
      "outputs": [
        {
          "output_type": "execute_result",
          "data": {
            "text/plain": [
              "[66, 63, 30, 18, 90]"
            ]
          },
          "metadata": {},
          "execution_count": 13
        }
      ]
    },
    {
      "cell_type": "code",
      "source": [
        "rdd_fillter.glom().collect()"
      ],
      "metadata": {
        "colab": {
          "base_uri": "https://localhost:8080/"
        },
        "id": "wzlLMqfQiM_G",
        "outputId": "0a911286-9663-4da1-c56b-22d179be6b70"
      },
      "execution_count": 18,
      "outputs": [
        {
          "output_type": "execute_result",
          "data": {
            "text/plain": [
              "[[], [66], [63], [30, 18, 90]]"
            ]
          },
          "metadata": {},
          "execution_count": 18
        }
      ]
    },
    {
      "cell_type": "code",
      "source": [
        "rdd_fillter.repartition(3).collect()"
      ],
      "metadata": {
        "id": "tEmbLwd-i5zk",
        "outputId": "bef09a26-1266-4c17-ad59-0bd635a6f2e4",
        "colab": {
          "base_uri": "https://localhost:8080/"
        }
      },
      "execution_count": 19,
      "outputs": [
        {
          "output_type": "execute_result",
          "data": {
            "text/plain": [
              "[30, 18, 90, 66, 63]"
            ]
          },
          "metadata": {},
          "execution_count": 19
        }
      ]
    },
    {
      "cell_type": "code",
      "source": [
        "rdd_map = rdd1.map(lambda x : [x+1,x+2])\n",
        "\n",
        "rdd_map.collect()"
      ],
      "metadata": {
        "id": "ca2gUL5tp1uc",
        "outputId": "302cbd42-2c11-4471-d57f-ec1726e020c3",
        "colab": {
          "base_uri": "https://localhost:8080/"
        }
      },
      "execution_count": 21,
      "outputs": [
        {
          "output_type": "execute_result",
          "data": {
            "text/plain": [
              "[[59, 60],\n",
              " [20, 21],\n",
              " [33, 34],\n",
              " [67, 68],\n",
              " [64, 65],\n",
              " [71, 72],\n",
              " [31, 32],\n",
              " [8, 9],\n",
              " [19, 20],\n",
              " [91, 92]]"
            ]
          },
          "metadata": {},
          "execution_count": 21
        }
      ]
    },
    {
      "cell_type": "code",
      "source": [
        "#flatmap()\n",
        "rdd_flatmap = rdd1.flatMap(lambda x : [x+1,x+2])\n",
        "rdd_flatmap.collect()"
      ],
      "metadata": {
        "id": "wMRnXeDHuY1m",
        "outputId": "755d474e-f9f3-4020-ae1a-cb9b6ac9e8cf",
        "colab": {
          "base_uri": "https://localhost:8080/"
        }
      },
      "execution_count": 22,
      "outputs": [
        {
          "output_type": "execute_result",
          "data": {
            "text/plain": [
              "[59, 60, 20, 21, 33, 34, 67, 68, 64, 65, 71, 72, 31, 32, 8, 9, 19, 20, 91, 92]"
            ]
          },
          "metadata": {},
          "execution_count": 22
        }
      ]
    },
    {
      "cell_type": "code",
      "source": [
        "rdd_flatmap.reduce(lambda x,y: x+ y)"
      ],
      "metadata": {
        "id": "tMGsRImaxHol",
        "outputId": "437ff459-c7ef-47e7-93b2-be43c1563c8c",
        "colab": {
          "base_uri": "https://localhost:8080/"
        }
      },
      "execution_count": 25,
      "outputs": [
        {
          "output_type": "execute_result",
          "data": {
            "text/plain": [
              "936"
            ]
          },
          "metadata": {},
          "execution_count": 25
        }
      ]
    },
    {
      "cell_type": "code",
      "source": [
        "# Descriptive statistics:\n",
        "print([rdd1.max(), rdd1.min(), rdd1.mean(), rdd1.stdev(), rdd1.sum()])"
      ],
      "metadata": {
        "id": "sv0MuN8fyPO9",
        "outputId": "3848772d-c8c0-421e-efab-e4c427280225",
        "colab": {
          "base_uri": "https://localhost:8080/"
        }
      },
      "execution_count": 26,
      "outputs": [
        {
          "output_type": "stream",
          "name": "stdout",
          "text": [
            "[90, 7, 45.3, 26.12680615766114, 453]\n"
          ]
        }
      ]
    },
    {
      "cell_type": "code",
      "source": [
        "#mappartation\n",
        "def myfunc(partition):\n",
        "  sum = 0\n",
        "  for item in partition:\n",
        "    sum = sum + item\n",
        "  yield sum\n",
        "\n",
        "rdd_mappartations = rdd1.mapPartitions(myfunc).collect()"
      ],
      "metadata": {
        "id": "cUg0GOBA1ygK"
      },
      "execution_count": 29,
      "outputs": []
    },
    {
      "cell_type": "code",
      "source": [
        "# prompt: create dataframe with 2 column\n",
        "\n",
        "from pyspark.sql import SparkSession\n",
        "\n",
        "spark = SparkSession.builder.appName(\"practice_DF\").getOrCreate()\n",
        "\n",
        "data = [(1, 2), (3, 4), (5, 6)]\n",
        "\n",
        "df = spark.createDataFrame(data, [\"col1\", \"col2\"])\n",
        "\n",
        "df.show()\n"
      ],
      "metadata": {
        "id": "nNpuBguijyg0"
      },
      "execution_count": null,
      "outputs": []
    }
  ],
  "metadata": {
    "colab": {
      "name": "Welcome To Colaboratory",
      "toc_visible": true,
      "provenance": [],
      "include_colab_link": true
    },
    "kernelspec": {
      "display_name": "Python 3",
      "name": "python3"
    }
  },
  "nbformat": 4,
  "nbformat_minor": 0
}